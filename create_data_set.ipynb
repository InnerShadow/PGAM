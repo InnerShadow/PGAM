{
 "cells": [
  {
   "cell_type": "code",
   "execution_count": 14,
   "metadata": {},
   "outputs": [],
   "source": [
    "import numpy as np\n",
    "import pandas as pd\n",
    "from Bio import SeqIO"
   ]
  },
  {
   "cell_type": "code",
   "execution_count": 15,
   "metadata": {},
   "outputs": [],
   "source": [
    "def read_fasta_file(fasta_file):\n",
    "    sequence = \"\"\n",
    "\n",
    "    for record in SeqIO.parse(fasta_file, \"fasta\"):\n",
    "        sequence += str(record.seq)\n",
    "\n",
    "    return sequence"
   ]
  },
  {
   "cell_type": "code",
   "execution_count": 16,
   "metadata": {},
   "outputs": [],
   "source": [
    "def parse_gtf_file(gtf_file):\n",
    "    exons = {}\n",
    "\n",
    "    with open(gtf_file, 'r') as f:\n",
    "        for line in f:\n",
    "            if not line.startswith('#'):\n",
    "                cols = line.strip().split('\\t')\n",
    "                feature_type = cols[2]\n",
    "                if feature_type == 'exon':\n",
    "                    chromosome = cols[0]\n",
    "                    start = int(cols[3])\n",
    "                    end = int(cols[4])\n",
    "                    gene_id = cols[8].split(';')[0].split('\"')[1]\n",
    "                    if gene_id not in exons:\n",
    "                        exons[gene_id] = []\n",
    "                    exons[gene_id].append((start, end))\n",
    "\n",
    "    return exons"
   ]
  },
  {
   "cell_type": "code",
   "execution_count": 17,
   "metadata": {},
   "outputs": [],
   "source": [
    "fasta_0_Coli = './data/samples/sample_0/reference_genome_545778205.fasta'\n",
    "fasta_0_Subtilis = './data/samples/sample_5/reference_genome_255767013.fasta'\n",
    "fasta_1_Coli = './data/samples/sample_3/reference_genome_682117612.fasta'\n",
    "fasta_1_Subtilis = './data/samples/sample_6/reference_genome_1678549200.fasta'\n",
    "\n",
    "fasta_0_Coli = read_fasta_file(fasta_0_Coli)\n",
    "fasta_0_Subtilis = read_fasta_file(fasta_0_Subtilis)\n",
    "fasta_1_Coli = read_fasta_file(fasta_1_Coli)\n",
    "fasta_1_Subtilis = read_fasta_file(fasta_1_Subtilis)"
   ]
  },
  {
   "cell_type": "code",
   "execution_count": 18,
   "metadata": {},
   "outputs": [],
   "source": [
    "gtf_0_Coli = './data/samples/sample_0/545778205_gtf_merged.gtf'\n",
    "gtf_0_Subtilis = './data/samples/sample_5/255767013_gtf_merged.gtf'\n",
    "gtf_1_Coli = './data/samples/sample_3/682117612_gtf_merged.gtf'\n",
    "gtf_1_Subtilis = './data/samples/sample_6/1678549200_gtf_merged.gtf'\n",
    "\n",
    "gtf_0_Coli = parse_gtf_file(gtf_0_Coli)\n",
    "gtf_0_Subtilis = parse_gtf_file(gtf_0_Subtilis)\n",
    "gtf_1_Coli = parse_gtf_file(gtf_1_Coli)\n",
    "gtf_1_Subtilis = parse_gtf_file(gtf_1_Subtilis)"
   ]
  },
  {
   "cell_type": "code",
   "execution_count": 19,
   "metadata": {},
   "outputs": [],
   "source": [
    "n_pad = 300\n",
    "n_annotate = 300\n",
    "n_window = 900\n",
    "\n",
    "dict_ = []\n",
    "\n",
    "for sequence, exon in zip([fasta_0_Coli, fasta_1_Coli, fasta_0_Subtilis, fasta_1_Subtilis],\n",
    "                           [gtf_0_Coli, gtf_1_Coli, gtf_0_Subtilis, gtf_1_Subtilis]):\n",
    "    for j in range(0, len(sequence), 100):\n",
    "        befor_start = j - n_pad\n",
    "        annotate_start = j\n",
    "        after_start = j + n_annotate + n_pad\n",
    "\n",
    "        befor_end = j\n",
    "        annotate_end = min(j + n_annotate, len(sequence))\n",
    "        after_end = j + n_window\n",
    "\n",
    "        window = []\n",
    "\n",
    "        if befor_start < 0:\n",
    "            window += ['N'] * abs(befor_start)\n",
    "            window += sequence[0 : befor_end]\n",
    "        else:\n",
    "            window += sequence[befor_start : befor_end]\n",
    "\n",
    "        window += sequence[annotate_start : annotate_end]\n",
    "\n",
    "        if after_end > len(sequence):\n",
    "            window += sequence[after_start : len(sequence)]\n",
    "            window += ['N'] * abs(n_window - len(window))\n",
    "        else:\n",
    "            window += sequence[after_start : after_end]\n",
    "\n",
    "        it = 0\n",
    "        for k in range(annotate_start, annotate_end):\n",
    "            it += 1 if any(start <= k < end for transcript_exons in exon.values() for start, end in transcript_exons) else 0\n",
    "\n",
    "        label = 1 if it / n_annotate > 0.66 else 0\n",
    "\n",
    "        iteration_dict = {\n",
    "            'seq_overlap': ''.join(window),\n",
    "            'seq_med': sequence[annotate_start : annotate_end],\n",
    "            'label': label\n",
    "        }\n",
    "\n",
    "        dict_.append(iteration_dict)\n",
    "\n"
   ]
  },
  {
   "cell_type": "code",
   "execution_count": 15,
   "metadata": {},
   "outputs": [
    {
     "data": {
      "text/plain": [
       "label\n",
       "1    95587\n",
       "0    81415\n",
       "Name: count, dtype: int64"
      ]
     },
     "execution_count": 15,
     "metadata": {},
     "output_type": "execute_result"
    }
   ],
   "source": [
    "df = pd.DataFrame(dict_)\n",
    "df['label'].value_counts()"
   ]
  },
  {
   "cell_type": "code",
   "execution_count": 16,
   "metadata": {},
   "outputs": [],
   "source": [
    "def fix_window(row):\n",
    "    overlap_len = len(row['seq_overlap'])\n",
    "    med_len = len(row['seq_med'])\n",
    "\n",
    "    if overlap_len < 900:\n",
    "        row['seq_overlap'] += 'N' * (900 - overlap_len)\n",
    "\n",
    "    if med_len < 300:\n",
    "        row['seq_med'] += 'N' * (300 - med_len)\n",
    "\n",
    "    return row\n",
    "\n",
    "df = df.apply(fix_window, axis = 1)"
   ]
  },
  {
   "cell_type": "code",
   "execution_count": null,
   "metadata": {},
   "outputs": [],
   "source": [
    "def dismiss_N(row):\n",
    "    if 'N' in row['seq_overlap'] or 'N' in row['seq_med']:\n",
    "        return False\n",
    "    else:\n",
    "        return True\n",
    "    \n",
    "\n",
    "df = df[df.apply(dismiss_N, axis=1)]\n",
    "df['label'].value_counts()"
   ]
  },
  {
   "cell_type": "code",
   "execution_count": 17,
   "metadata": {},
   "outputs": [],
   "source": [
    "df_label_0 = df[df['label'] == 0]\n",
    "df_label_1 = df[df['label'] == 1]\n",
    "\n",
    "df_label_0.to_csv('df_label_0.csv', index = False)\n",
    "df_label_1.to_csv('df_label_1.csv', index = False)"
   ]
  },
  {
   "cell_type": "code",
   "execution_count": 18,
   "metadata": {},
   "outputs": [],
   "source": [
    "def write_fasta(df, label, filename_prefix):\n",
    "    with open(f'{filename_prefix}_{label}.fasta', 'w') as f:\n",
    "        for idx, row in df.iterrows():\n",
    "            sequence = row['seq_med']\n",
    "            f.write(f'>BA000007.3_{idx}\\n')\n",
    "            f.write(f'{sequence}\\n')\n",
    "\n",
    "\n",
    "write_fasta(df_label_0, 0, 'class_0')\n",
    "write_fasta(df_label_1, 1, 'class_1')"
   ]
  },
  {
   "cell_type": "code",
   "execution_count": null,
   "metadata": {},
   "outputs": [],
   "source": [
    "!python3 ../../Soft/MathFeature/preprocessing/preprocessing.py -i class_0_0.fasta -o class_0_0_preprocess.fasta\n",
    "!python3 ../../Soft/MathFeature/preprocessing/preprocessing.py -i class_1_1.fasta -o class_1_1_preprocess.fasta"
   ]
  },
  {
   "cell_type": "code",
   "execution_count": null,
   "metadata": {},
   "outputs": [],
   "source": [
    "!python3 ../../Soft/MathFeature/methods/ExtractionTechniques.py -i class_0_0_preprocess.fasta -o class_0_feature_1.csv -l DNA -t DNC -seq 1\n",
    "!python3 ../../Soft/MathFeature/methods/ExtractionTechniques.py -i class_1_1_preprocess.fasta -o class_1_feature_1.csv -l DNA -t DNC -seq 1"
   ]
  },
  {
   "cell_type": "code",
   "execution_count": null,
   "metadata": {},
   "outputs": [],
   "source": [
    "!python3 ../../Soft/MathFeature/methods/ExtractionTechniques.py -i class_0_0_preprocess.fasta -o class_0_feature_2.csv -l DNA -t TNC -seq 1\n",
    "!python3 ../../Soft/MathFeature/methods/ExtractionTechniques.py -i class_1_1_preprocess.fasta -o class_1_feature_2.csv -l DNA -t TNC -seq 1"
   ]
  },
  {
   "cell_type": "code",
   "execution_count": null,
   "metadata": {},
   "outputs": [],
   "source": [
    "!python3 ../../Soft/MathFeature/methods/FourierClass.py -i class_0_0_preprocess.fasta -o class_0_feature_3.csv -l mRNA -r 3\n",
    "!python3 ../../Soft/MathFeature/methods/FourierClass.py -i class_1_1_preprocess.fasta -o class_1_feature_3.csv -l mRNA -r 3"
   ]
  },
  {
   "cell_type": "code",
   "execution_count": null,
   "metadata": {},
   "outputs": [],
   "source": [
    "!python3 ../../Soft/MathFeature/methods/EntropyClass.py -i class_0_0_preprocess.fasta -o class_0_feature_4.csv -l mRNA -k 10 -e Shannon\n",
    "!python3 ../../Soft/MathFeature/methods/EntropyClass.py -i class_1_1_preprocess.fasta -o class_1_feature_4.csv -l mRNA -k 10 -e Shannon"
   ]
  },
  {
   "cell_type": "code",
   "execution_count": null,
   "metadata": {},
   "outputs": [],
   "source": [
    "!python3 ../../Soft/MathFeature/methods/AccumulatedNucleotideFrequency.py -n 1 -o class_0_feature_5.csv -r 2"
   ]
  },
  {
   "cell_type": "code",
   "execution_count": null,
   "metadata": {},
   "outputs": [],
   "source": [
    "!python3 ../../Soft/MathFeature/methods/AccumulatedNucleotideFrequency.py -n 1 -o class_1_feature_5.csv -r 2"
   ]
  },
  {
   "cell_type": "code",
   "execution_count": null,
   "metadata": {},
   "outputs": [],
   "source": [
    "!python3 ../../Soft/MathFeature/methods/CodingClass.py -i class_0_0_preprocess.fasta -o class_0_feature_6.csv -l lncRNA\n",
    "!python3 ../../Soft/MathFeature/methods/CodingClass.py -i class_1_1_preprocess.fasta -o class_1_feature_6.csv -l lncRNA"
   ]
  },
  {
   "cell_type": "code",
   "execution_count": null,
   "metadata": {},
   "outputs": [],
   "source": [
    "!python3 ../../Soft/MathFeature/methods/FickettScore.py -i class_0_0_preprocess.fasta -o class_0_feature_7.csv -l lncRNA -seq 1\n",
    "!python3 ../../Soft/MathFeature/methods/FickettScore.py -i class_1_1_preprocess.fasta -o class_1_feature_7.csv -l lncRNA -seq 1"
   ]
  },
  {
   "cell_type": "code",
   "execution_count": 8,
   "metadata": {},
   "outputs": [],
   "source": [
    "for i in range(1, 8): \n",
    "    for j in ['class_0_feature_', 'class_1_feature_']:\n",
    "        df_temp = pd.read_csv(open(j + str(i) + '.csv', 'rb'))\n",
    "        df_temp = df_temp.drop_duplicates(keep = 'first')\n",
    "        df_temp.to_csv(j + str(i) + '.csv', index = False)"
   ]
  },
  {
   "cell_type": "code",
   "execution_count": 12,
   "metadata": {},
   "outputs": [
    {
     "name": "stdout",
     "output_type": "stream",
     "text": [
      "<class 'pandas.core.frame.DataFrame'>\n",
      "RangeIndex: 81399 entries, 0 to 81398\n",
      "Data columns (total 3 columns):\n",
      " #   Column       Non-Null Count  Dtype \n",
      "---  ------       --------------  ----- \n",
      " 0   seq_overlap  81399 non-null  object\n",
      " 1   seq_med      81399 non-null  object\n",
      " 2   label        81399 non-null  int64 \n",
      "dtypes: int64(1), object(2)\n",
      "memory usage: 1.9+ MB\n"
     ]
    }
   ],
   "source": [
    "df_0 = pd.read_csv(open('df_label_0.csv', 'rb'))\n",
    "df_0.info()"
   ]
  },
  {
   "cell_type": "code",
   "execution_count": 13,
   "metadata": {},
   "outputs": [
    {
     "name": "stdout",
     "output_type": "stream",
     "text": [
      "<class 'pandas.core.frame.DataFrame'>\n",
      "RangeIndex: 81406 entries, 0 to 81405\n",
      "Data columns (total 18 columns):\n",
      " #   Column   Non-Null Count  Dtype  \n",
      "---  ------   --------------  -----  \n",
      " 0   nameseq  81406 non-null  object \n",
      " 1   AA       81406 non-null  float64\n",
      " 2   AC       81406 non-null  float64\n",
      " 3   AG       81406 non-null  float64\n",
      " 4   AT       81406 non-null  float64\n",
      " 5   CA       81406 non-null  float64\n",
      " 6   CC       81406 non-null  float64\n",
      " 7   CG       81406 non-null  float64\n",
      " 8   CT       81406 non-null  float64\n",
      " 9   GA       81406 non-null  float64\n",
      " 10  GC       81406 non-null  float64\n",
      " 11  GG       81406 non-null  float64\n",
      " 12  GT       81406 non-null  float64\n",
      " 13  TA       81406 non-null  float64\n",
      " 14  TC       81406 non-null  float64\n",
      " 15  TG       81406 non-null  float64\n",
      " 16  TT       81406 non-null  float64\n",
      " 17  label    81406 non-null  object \n",
      "dtypes: float64(16), object(2)\n",
      "memory usage: 11.2+ MB\n"
     ]
    }
   ],
   "source": [
    "df_add = pd.read_csv(open('class_0_feature_1.csv', 'rb'))\n",
    "df_add.info()"
   ]
  }
 ],
 "metadata": {
  "kernelspec": {
   "display_name": "PGAMenv",
   "language": "python",
   "name": "python3"
  },
  "language_info": {
   "codemirror_mode": {
    "name": "ipython",
    "version": 3
   },
   "file_extension": ".py",
   "mimetype": "text/x-python",
   "name": "python",
   "nbconvert_exporter": "python",
   "pygments_lexer": "ipython3",
   "version": "3.10.12"
  }
 },
 "nbformat": 4,
 "nbformat_minor": 2
}
