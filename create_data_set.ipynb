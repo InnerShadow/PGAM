{
 "cells": [
  {
   "cell_type": "code",
   "execution_count": 2,
   "metadata": {},
   "outputs": [],
   "source": [
    "import numpy as np\n",
    "import pandas as pd\n",
    "from Bio import SeqIO"
   ]
  },
  {
   "cell_type": "code",
   "execution_count": 2,
   "metadata": {},
   "outputs": [],
   "source": [
    "def read_fasta_file(fasta_file):\n",
    "    sequence = \"\"\n",
    "\n",
    "    for record in SeqIO.parse(fasta_file, \"fasta\"):\n",
    "        sequence += str(record.seq)\n",
    "\n",
    "    return sequence"
   ]
  },
  {
   "cell_type": "code",
   "execution_count": 3,
   "metadata": {},
   "outputs": [],
   "source": [
    "def parse_gtf_file(gtf_file):\n",
    "    exons = {}\n",
    "\n",
    "    with open(gtf_file, 'r') as f:\n",
    "        for line in f:\n",
    "            if not line.startswith('#'):\n",
    "                cols = line.strip().split('\\t')\n",
    "                feature_type = cols[2]\n",
    "                if feature_type == 'exon':\n",
    "                    chromosome = cols[0]\n",
    "                    start = int(cols[3])\n",
    "                    end = int(cols[4])\n",
    "                    gene_id = cols[8].split(';')[0].split('\"')[1]\n",
    "                    if gene_id not in exons:\n",
    "                        exons[gene_id] = []\n",
    "                    exons[gene_id].append((start, end))\n",
    "\n",
    "    return exons"
   ]
  },
  {
   "cell_type": "code",
   "execution_count": 4,
   "metadata": {},
   "outputs": [],
   "source": [
    "fasta_0_Coli = './data/samples/sample_0/reference_genome_545778205.fasta'\n",
    "fasta_0_Subtilis = './data/samples/sample_5/reference_genome_255767013.fasta'\n",
    "fasta_1_Coli = './data/samples/sample_3/reference_genome_682117612.fasta'\n",
    "fasta_1_Subtilis = './data/samples/sample_6/reference_genome_1678549200.fasta'\n",
    "\n",
    "fasta_0_Coli = read_fasta_file(fasta_0_Coli)\n",
    "fasta_0_Subtilis = read_fasta_file(fasta_0_Subtilis)\n",
    "fasta_1_Coli = read_fasta_file(fasta_1_Coli)\n",
    "fasta_1_Subtilis = read_fasta_file(fasta_1_Subtilis)"
   ]
  },
  {
   "cell_type": "code",
   "execution_count": 5,
   "metadata": {},
   "outputs": [],
   "source": [
    "gtf_0_Coli = './data/samples/sample_0/545778205_gtf_merged.gtf'\n",
    "gtf_0_Subtilis = './data/samples/sample_5/255767013_gtf_merged.gtf'\n",
    "gtf_1_Coli = './data/samples/sample_3/682117612_gtf_merged.gtf'\n",
    "gtf_1_Subtilis = './data/samples/sample_6/1678549200_gtf_merged.gtf'\n",
    "\n",
    "gtf_0_Coli = parse_gtf_file(gtf_0_Coli)\n",
    "gtf_0_Subtilis = parse_gtf_file(gtf_0_Subtilis)\n",
    "gtf_1_Coli = parse_gtf_file(gtf_1_Coli)\n",
    "gtf_1_Subtilis = parse_gtf_file(gtf_1_Subtilis)"
   ]
  },
  {
   "cell_type": "code",
   "execution_count": 18,
   "metadata": {},
   "outputs": [],
   "source": [
    "n_pad = 300\n",
    "n_annotate = 300\n",
    "n_window = 900\n",
    "\n",
    "dict_ = []\n",
    "\n",
    "for sequence, exon in zip([fasta_0_Coli, fasta_1_Coli, fasta_0_Subtilis, fasta_1_Subtilis],\n",
    "                           [gtf_0_Coli, gtf_1_Coli, gtf_0_Subtilis, gtf_1_Subtilis]):\n",
    "    for j in range(0, len(sequence), 100):\n",
    "        befor_start = j - n_pad\n",
    "        annotate_start = j\n",
    "        after_start = j + n_annotate + n_pad\n",
    "\n",
    "        befor_end = j\n",
    "        annotate_end = min(j + n_annotate, len(sequence))\n",
    "        after_end = j + n_window\n",
    "\n",
    "        window = []\n",
    "\n",
    "        if befor_start < 0:\n",
    "            window += ['N'] * abs(befor_start)\n",
    "            window += sequence[0 : befor_end]\n",
    "        else:\n",
    "            window += sequence[befor_start : befor_end]\n",
    "\n",
    "        window += sequence[annotate_start : annotate_end]\n",
    "\n",
    "        if after_end > len(sequence):\n",
    "            window += sequence[after_start : len(sequence)]\n",
    "            window += ['N'] * abs(n_window - len(window))\n",
    "        else:\n",
    "            window += sequence[after_start : after_end]\n",
    "\n",
    "        it = 0\n",
    "        n_start = 0\n",
    "        p_start = True\n",
    "        n_end = 0\n",
    "        p_end = True\n",
    "        for k in range(annotate_start, annotate_end):\n",
    "            exon_transcript = 1 if any(start - 1 <= k < end - 1 for transcript_exons in exon.values() for start, end in transcript_exons) else 0\n",
    "\n",
    "            it += exon_transcript \n",
    "            if it > 0 and p_start:\n",
    "                n_start = k - annotate_start\n",
    "                p_start = False\n",
    "\n",
    "            if exon_transcript and p_end:\n",
    "                n_end = k - annotate_start\n",
    "\n",
    "            if n_start and p_end and not exon_transcript:\n",
    "                p_end = False\n",
    "\n",
    "        label = 1 if it / n_annotate > 0.66 else 0\n",
    "        n_start, n_end = (0, 0) if not label else (n_start, n_end)\n",
    "\n",
    "        iteration_dict = {\n",
    "            'seq_overlap': ''.join(window),\n",
    "            'seq_med': sequence[annotate_start : annotate_end],\n",
    "            'label': label,\n",
    "            'n_start' : n_start,\n",
    "            'n_end' : n_end\n",
    "        }\n",
    "\n",
    "        dict_.append(iteration_dict)\n",
    "\n"
   ]
  },
  {
   "cell_type": "code",
   "execution_count": 19,
   "metadata": {},
   "outputs": [
    {
     "data": {
      "text/plain": [
       "label\n",
       "1    95590\n",
       "0    81412\n",
       "Name: count, dtype: int64"
      ]
     },
     "execution_count": 19,
     "metadata": {},
     "output_type": "execute_result"
    }
   ],
   "source": [
    "df = pd.DataFrame(dict_)\n",
    "df['label'].value_counts()"
   ]
  },
  {
   "cell_type": "code",
   "execution_count": 20,
   "metadata": {},
   "outputs": [],
   "source": [
    "def fix_window(row):\n",
    "    overlap_len = len(row['seq_overlap'])\n",
    "    med_len = len(row['seq_med'])\n",
    "\n",
    "    if overlap_len < 900:\n",
    "        row['seq_overlap'] += 'N' * (900 - overlap_len)\n",
    "\n",
    "    if med_len < 300:\n",
    "        row['seq_med'] += 'N' * (300 - med_len)\n",
    "\n",
    "    return row\n",
    "\n",
    "df = df.apply(fix_window, axis = 1)"
   ]
  },
  {
   "cell_type": "code",
   "execution_count": 21,
   "metadata": {},
   "outputs": [
    {
     "data": {
      "text/plain": [
       "label\n",
       "1    95558\n",
       "0    81396\n",
       "Name: count, dtype: int64"
      ]
     },
     "execution_count": 21,
     "metadata": {},
     "output_type": "execute_result"
    }
   ],
   "source": [
    "def dismiss_N(row):\n",
    "    if 'N' in row['seq_overlap'] or 'N' in row['seq_med']:\n",
    "        return False\n",
    "    else:\n",
    "        return True\n",
    "    \n",
    "\n",
    "df = df[df.apply(dismiss_N, axis=1)]\n",
    "df['label'].value_counts()"
   ]
  },
  {
   "cell_type": "code",
   "execution_count": 22,
   "metadata": {},
   "outputs": [],
   "source": [
    "df_label_0 = df[df['label'] == 0]\n",
    "df_label_1 = df[df['label'] == 1]\n",
    "\n",
    "df_label_0.to_csv('df_label_0.csv', index = False)\n",
    "df_label_1.to_csv('df_label_1.csv', index = False)"
   ]
  },
  {
   "cell_type": "code",
   "execution_count": 23,
   "metadata": {},
   "outputs": [],
   "source": [
    "def write_fasta(df, label, filename_prefix):\n",
    "    with open(f'{filename_prefix}_{label}.fasta', 'w') as f:\n",
    "        for idx, row in df.iterrows():\n",
    "            sequence = row['seq_med']\n",
    "            f.write(f'>BA000007.3_{idx}\\n')\n",
    "            f.write(f'{sequence}\\n')\n",
    "\n",
    "\n",
    "write_fasta(df_label_0, 0, 'class_0')\n",
    "write_fasta(df_label_1, 1, 'class_1')"
   ]
  },
  {
   "cell_type": "code",
   "execution_count": null,
   "metadata": {},
   "outputs": [],
   "source": [
    "!python3 ../../Soft/MathFeature/preprocessing/preprocessing.py -i class_0_0.fasta -o class_0_0_preprocess.fasta\n",
    "!python3 ../../Soft/MathFeature/preprocessing/preprocessing.py -i class_1_1.fasta -o class_1_1_preprocess.fasta"
   ]
  },
  {
   "cell_type": "code",
   "execution_count": null,
   "metadata": {},
   "outputs": [],
   "source": [
    "!python3 ../../Soft/MathFeature/methods/ExtractionTechniques.py -i class_0_0_preprocess.fasta -o class_0_feature_1.csv -l DNA -t DNC -seq 1\n",
    "!python3 ../../Soft/MathFeature/methods/ExtractionTechniques.py -i class_1_1_preprocess.fasta -o class_1_feature_1.csv -l DNA -t DNC -seq 1"
   ]
  },
  {
   "cell_type": "code",
   "execution_count": null,
   "metadata": {},
   "outputs": [],
   "source": [
    "!python3 ../../Soft/MathFeature/methods/ExtractionTechniques.py -i class_0_0_preprocess.fasta -o class_0_feature_2.csv -l DNA -t TNC -seq 1\n",
    "!python3 ../../Soft/MathFeature/methods/ExtractionTechniques.py -i class_1_1_preprocess.fasta -o class_1_feature_2.csv -l DNA -t TNC -seq 1"
   ]
  },
  {
   "cell_type": "code",
   "execution_count": null,
   "metadata": {},
   "outputs": [],
   "source": [
    "!python3 ../../Soft/MathFeature/methods/FourierClass.py -i class_0_0_preprocess.fasta -o class_0_feature_3.csv -l mRNA -r 3\n",
    "!python3 ../../Soft/MathFeature/methods/FourierClass.py -i class_1_1_preprocess.fasta -o class_1_feature_3.csv -l mRNA -r 3"
   ]
  },
  {
   "cell_type": "code",
   "execution_count": null,
   "metadata": {},
   "outputs": [],
   "source": [
    "!python3 ../../Soft/MathFeature/methods/EntropyClass.py -i class_0_0_preprocess.fasta -o class_0_feature_4.csv -l mRNA -k 10 -e Shannon\n",
    "!python3 ../../Soft/MathFeature/methods/EntropyClass.py -i class_1_1_preprocess.fasta -o class_1_feature_4.csv -l mRNA -k 10 -e Shannon"
   ]
  },
  {
   "cell_type": "code",
   "execution_count": null,
   "metadata": {},
   "outputs": [],
   "source": [
    "!python3 ../../Soft/MathFeature/methods/AccumulatedNucleotideFrequency.py -n 1 -o class_0_feature_5.csv -r 2"
   ]
  },
  {
   "cell_type": "code",
   "execution_count": null,
   "metadata": {},
   "outputs": [],
   "source": [
    "!python3 ../../Soft/MathFeature/methods/AccumulatedNucleotideFrequency.py -n 1 -o class_1_feature_5.csv -r 2"
   ]
  },
  {
   "cell_type": "code",
   "execution_count": null,
   "metadata": {},
   "outputs": [],
   "source": [
    "!python3 ../../Soft/MathFeature/methods/CodingClass.py -i class_0_0_preprocess.fasta -o class_0_feature_6.csv -l lncRNA\n",
    "!python3 ../../Soft/MathFeature/methods/CodingClass.py -i class_1_1_preprocess.fasta -o class_1_feature_6.csv -l lncRNA"
   ]
  },
  {
   "cell_type": "code",
   "execution_count": null,
   "metadata": {},
   "outputs": [],
   "source": [
    "!python3 ../../Soft/MathFeature/methods/FickettScore.py -i class_0_0_preprocess.fasta -o class_0_feature_7.csv -l lncRNA -seq 1\n",
    "!python3 ../../Soft/MathFeature/methods/FickettScore.py -i class_1_1_preprocess.fasta -o class_1_feature_7.csv -l lncRNA -seq 1"
   ]
  },
  {
   "cell_type": "code",
   "execution_count": 4,
   "metadata": {},
   "outputs": [
    {
     "name": "stdout",
     "output_type": "stream",
     "text": [
      "0\n",
      "0\n",
      "0\n",
      "0\n",
      "0\n",
      "0\n",
      "0\n",
      "0\n",
      "0\n",
      "0\n",
      "0\n",
      "0\n",
      "0\n",
      "0\n"
     ]
    }
   ],
   "source": [
    "for i in range(1, 8): \n",
    "    for j in ['class_0_feature_', 'class_1_feature_']:\n",
    "        df_temp = pd.read_csv(open(j + str(i) + '.csv', 'rb'))\n",
    "        df_temp = df_temp.drop_duplicates(keep = 'first')\n",
    "        df_temp.to_csv(j + str(i) + '.csv', index = False)\n",
    "        print(df_temp.duplicated().sum())"
   ]
  },
  {
   "cell_type": "code",
   "execution_count": 5,
   "metadata": {},
   "outputs": [
    {
     "name": "stdout",
     "output_type": "stream",
     "text": [
      "<class 'pandas.core.frame.DataFrame'>\n",
      "RangeIndex: 81396 entries, 0 to 81395\n",
      "Data columns (total 5 columns):\n",
      " #   Column       Non-Null Count  Dtype \n",
      "---  ------       --------------  ----- \n",
      " 0   seq_overlap  81396 non-null  object\n",
      " 1   seq_med      81396 non-null  object\n",
      " 2   label        81396 non-null  int64 \n",
      " 3   n_start      81396 non-null  int64 \n",
      " 4   n_end        81396 non-null  int64 \n",
      "dtypes: int64(3), object(2)\n",
      "memory usage: 3.1+ MB\n"
     ]
    }
   ],
   "source": [
    "df_0 = pd.read_csv(open('df_label_0.csv', 'rb'))\n",
    "df_0.info()"
   ]
  },
  {
   "cell_type": "code",
   "execution_count": 6,
   "metadata": {},
   "outputs": [
    {
     "name": "stdout",
     "output_type": "stream",
     "text": [
      "<class 'pandas.core.frame.DataFrame'>\n",
      "RangeIndex: 81396 entries, 0 to 81395\n",
      "Data columns (total 16 columns):\n",
      " #   Column  Non-Null Count  Dtype  \n",
      "---  ------  --------------  -----  \n",
      " 0   AA      81396 non-null  float64\n",
      " 1   AC      81396 non-null  float64\n",
      " 2   AG      81396 non-null  float64\n",
      " 3   AT      81396 non-null  float64\n",
      " 4   CA      81396 non-null  float64\n",
      " 5   CC      81396 non-null  float64\n",
      " 6   CG      81396 non-null  float64\n",
      " 7   CT      81396 non-null  float64\n",
      " 8   GA      81396 non-null  float64\n",
      " 9   GC      81396 non-null  float64\n",
      " 10  GG      81396 non-null  float64\n",
      " 11  GT      81396 non-null  float64\n",
      " 12  TA      81396 non-null  float64\n",
      " 13  TC      81396 non-null  float64\n",
      " 14  TG      81396 non-null  float64\n",
      " 15  TT      81396 non-null  float64\n",
      "dtypes: float64(16)\n",
      "memory usage: 9.9 MB\n"
     ]
    }
   ],
   "source": [
    "df_add = pd.read_csv(open('class_0_feature_1.csv', 'rb'))\n",
    "df_add = df_add.drop(['nameseq', 'label'], axis = 1)\n",
    "df_add.info()"
   ]
  },
  {
   "cell_type": "code",
   "execution_count": 7,
   "metadata": {},
   "outputs": [
    {
     "name": "stdout",
     "output_type": "stream",
     "text": [
      "<class 'pandas.core.frame.DataFrame'>\n",
      "RangeIndex: 81396 entries, 0 to 81395\n",
      "Data columns (total 21 columns):\n",
      " #   Column       Non-Null Count  Dtype  \n",
      "---  ------       --------------  -----  \n",
      " 0   seq_overlap  81396 non-null  object \n",
      " 1   seq_med      81396 non-null  object \n",
      " 2   label        81396 non-null  int64  \n",
      " 3   n_start      81396 non-null  int64  \n",
      " 4   n_end        81396 non-null  int64  \n",
      " 5   AA           81396 non-null  float64\n",
      " 6   AC           81396 non-null  float64\n",
      " 7   AG           81396 non-null  float64\n",
      " 8   AT           81396 non-null  float64\n",
      " 9   CA           81396 non-null  float64\n",
      " 10  CC           81396 non-null  float64\n",
      " 11  CG           81396 non-null  float64\n",
      " 12  CT           81396 non-null  float64\n",
      " 13  GA           81396 non-null  float64\n",
      " 14  GC           81396 non-null  float64\n",
      " 15  GG           81396 non-null  float64\n",
      " 16  GT           81396 non-null  float64\n",
      " 17  TA           81396 non-null  float64\n",
      " 18  TC           81396 non-null  float64\n",
      " 19  TG           81396 non-null  float64\n",
      " 20  TT           81396 non-null  float64\n",
      "dtypes: float64(16), int64(3), object(2)\n",
      "memory usage: 13.0+ MB\n"
     ]
    }
   ],
   "source": [
    "df_0 = pd.concat([df_0, df_add], axis = 1)\n",
    "df_0.info()"
   ]
  },
  {
   "cell_type": "code",
   "execution_count": 8,
   "metadata": {},
   "outputs": [
    {
     "name": "stdout",
     "output_type": "stream",
     "text": [
      "<class 'pandas.core.frame.DataFrame'>\n",
      "RangeIndex: 81396 entries, 0 to 81395\n",
      "Data columns (total 64 columns):\n",
      " #   Column  Non-Null Count  Dtype  \n",
      "---  ------  --------------  -----  \n",
      " 0   AAA     81396 non-null  float64\n",
      " 1   AAC     81396 non-null  float64\n",
      " 2   AAG     81396 non-null  float64\n",
      " 3   AAT     81396 non-null  float64\n",
      " 4   ACA     81396 non-null  float64\n",
      " 5   ACC     81396 non-null  float64\n",
      " 6   ACG     81396 non-null  float64\n",
      " 7   ACT     81396 non-null  float64\n",
      " 8   AGA     81396 non-null  float64\n",
      " 9   AGC     81396 non-null  float64\n",
      " 10  AGG     81396 non-null  float64\n",
      " 11  AGT     81396 non-null  float64\n",
      " 12  ATA     81396 non-null  float64\n",
      " 13  ATC     81396 non-null  float64\n",
      " 14  ATG     81396 non-null  float64\n",
      " 15  ATT     81396 non-null  float64\n",
      " 16  CAA     81396 non-null  float64\n",
      " 17  CAC     81396 non-null  float64\n",
      " 18  CAG     81396 non-null  float64\n",
      " 19  CAT     81396 non-null  float64\n",
      " 20  CCA     81396 non-null  float64\n",
      " 21  CCC     81396 non-null  float64\n",
      " 22  CCG     81396 non-null  float64\n",
      " 23  CCT     81396 non-null  float64\n",
      " 24  CGA     81396 non-null  float64\n",
      " 25  CGC     81396 non-null  float64\n",
      " 26  CGG     81396 non-null  float64\n",
      " 27  CGT     81396 non-null  float64\n",
      " 28  CTA     81396 non-null  float64\n",
      " 29  CTC     81396 non-null  float64\n",
      " 30  CTG     81396 non-null  float64\n",
      " 31  CTT     81396 non-null  float64\n",
      " 32  GAA     81396 non-null  float64\n",
      " 33  GAC     81396 non-null  float64\n",
      " 34  GAG     81396 non-null  float64\n",
      " 35  GAT     81396 non-null  float64\n",
      " 36  GCA     81396 non-null  float64\n",
      " 37  GCC     81396 non-null  float64\n",
      " 38  GCG     81396 non-null  float64\n",
      " 39  GCT     81396 non-null  float64\n",
      " 40  GGA     81396 non-null  float64\n",
      " 41  GGC     81396 non-null  float64\n",
      " 42  GGG     81396 non-null  float64\n",
      " 43  GGT     81396 non-null  float64\n",
      " 44  GTA     81396 non-null  float64\n",
      " 45  GTC     81396 non-null  float64\n",
      " 46  GTG     81396 non-null  float64\n",
      " 47  GTT     81396 non-null  float64\n",
      " 48  TAA     81396 non-null  float64\n",
      " 49  TAC     81396 non-null  float64\n",
      " 50  TAG     81396 non-null  float64\n",
      " 51  TAT     81396 non-null  float64\n",
      " 52  TCA     81396 non-null  float64\n",
      " 53  TCC     81396 non-null  float64\n",
      " 54  TCG     81396 non-null  float64\n",
      " 55  TCT     81396 non-null  float64\n",
      " 56  TGA     81396 non-null  float64\n",
      " 57  TGC     81396 non-null  float64\n",
      " 58  TGG     81396 non-null  float64\n",
      " 59  TGT     81396 non-null  float64\n",
      " 60  TTA     81396 non-null  float64\n",
      " 61  TTC     81396 non-null  float64\n",
      " 62  TTG     81396 non-null  float64\n",
      " 63  TTT     81396 non-null  float64\n",
      "dtypes: float64(64)\n",
      "memory usage: 39.7 MB\n"
     ]
    }
   ],
   "source": [
    "df_add = pd.read_csv(open('class_0_feature_2.csv', 'rb'))\n",
    "df_add = df_add.drop(['nameseq', 'label'], axis = 1)\n",
    "df_add.info()"
   ]
  },
  {
   "cell_type": "code",
   "execution_count": 9,
   "metadata": {},
   "outputs": [
    {
     "name": "stdout",
     "output_type": "stream",
     "text": [
      "<class 'pandas.core.frame.DataFrame'>\n",
      "RangeIndex: 81396 entries, 0 to 81395\n",
      "Data columns (total 85 columns):\n",
      " #   Column       Non-Null Count  Dtype  \n",
      "---  ------       --------------  -----  \n",
      " 0   seq_overlap  81396 non-null  object \n",
      " 1   seq_med      81396 non-null  object \n",
      " 2   label        81396 non-null  int64  \n",
      " 3   n_start      81396 non-null  int64  \n",
      " 4   n_end        81396 non-null  int64  \n",
      " 5   AA           81396 non-null  float64\n",
      " 6   AC           81396 non-null  float64\n",
      " 7   AG           81396 non-null  float64\n",
      " 8   AT           81396 non-null  float64\n",
      " 9   CA           81396 non-null  float64\n",
      " 10  CC           81396 non-null  float64\n",
      " 11  CG           81396 non-null  float64\n",
      " 12  CT           81396 non-null  float64\n",
      " 13  GA           81396 non-null  float64\n",
      " 14  GC           81396 non-null  float64\n",
      " 15  GG           81396 non-null  float64\n",
      " 16  GT           81396 non-null  float64\n",
      " 17  TA           81396 non-null  float64\n",
      " 18  TC           81396 non-null  float64\n",
      " 19  TG           81396 non-null  float64\n",
      " 20  TT           81396 non-null  float64\n",
      " 21  AAA          81396 non-null  float64\n",
      " 22  AAC          81396 non-null  float64\n",
      " 23  AAG          81396 non-null  float64\n",
      " 24  AAT          81396 non-null  float64\n",
      " 25  ACA          81396 non-null  float64\n",
      " 26  ACC          81396 non-null  float64\n",
      " 27  ACG          81396 non-null  float64\n",
      " 28  ACT          81396 non-null  float64\n",
      " 29  AGA          81396 non-null  float64\n",
      " 30  AGC          81396 non-null  float64\n",
      " 31  AGG          81396 non-null  float64\n",
      " 32  AGT          81396 non-null  float64\n",
      " 33  ATA          81396 non-null  float64\n",
      " 34  ATC          81396 non-null  float64\n",
      " 35  ATG          81396 non-null  float64\n",
      " 36  ATT          81396 non-null  float64\n",
      " 37  CAA          81396 non-null  float64\n",
      " 38  CAC          81396 non-null  float64\n",
      " 39  CAG          81396 non-null  float64\n",
      " 40  CAT          81396 non-null  float64\n",
      " 41  CCA          81396 non-null  float64\n",
      " 42  CCC          81396 non-null  float64\n",
      " 43  CCG          81396 non-null  float64\n",
      " 44  CCT          81396 non-null  float64\n",
      " 45  CGA          81396 non-null  float64\n",
      " 46  CGC          81396 non-null  float64\n",
      " 47  CGG          81396 non-null  float64\n",
      " 48  CGT          81396 non-null  float64\n",
      " 49  CTA          81396 non-null  float64\n",
      " 50  CTC          81396 non-null  float64\n",
      " 51  CTG          81396 non-null  float64\n",
      " 52  CTT          81396 non-null  float64\n",
      " 53  GAA          81396 non-null  float64\n",
      " 54  GAC          81396 non-null  float64\n",
      " 55  GAG          81396 non-null  float64\n",
      " 56  GAT          81396 non-null  float64\n",
      " 57  GCA          81396 non-null  float64\n",
      " 58  GCC          81396 non-null  float64\n",
      " 59  GCG          81396 non-null  float64\n",
      " 60  GCT          81396 non-null  float64\n",
      " 61  GGA          81396 non-null  float64\n",
      " 62  GGC          81396 non-null  float64\n",
      " 63  GGG          81396 non-null  float64\n",
      " 64  GGT          81396 non-null  float64\n",
      " 65  GTA          81396 non-null  float64\n",
      " 66  GTC          81396 non-null  float64\n",
      " 67  GTG          81396 non-null  float64\n",
      " 68  GTT          81396 non-null  float64\n",
      " 69  TAA          81396 non-null  float64\n",
      " 70  TAC          81396 non-null  float64\n",
      " 71  TAG          81396 non-null  float64\n",
      " 72  TAT          81396 non-null  float64\n",
      " 73  TCA          81396 non-null  float64\n",
      " 74  TCC          81396 non-null  float64\n",
      " 75  TCG          81396 non-null  float64\n",
      " 76  TCT          81396 non-null  float64\n",
      " 77  TGA          81396 non-null  float64\n",
      " 78  TGC          81396 non-null  float64\n",
      " 79  TGG          81396 non-null  float64\n",
      " 80  TGT          81396 non-null  float64\n",
      " 81  TTA          81396 non-null  float64\n",
      " 82  TTC          81396 non-null  float64\n",
      " 83  TTG          81396 non-null  float64\n",
      " 84  TTT          81396 non-null  float64\n",
      "dtypes: float64(80), int64(3), object(2)\n",
      "memory usage: 52.8+ MB\n"
     ]
    }
   ],
   "source": [
    "df_0 = pd.concat([df_0, df_add], axis = 1)\n",
    "df_0.info()"
   ]
  },
  {
   "cell_type": "code",
   "execution_count": 10,
   "metadata": {},
   "outputs": [
    {
     "name": "stdout",
     "output_type": "stream",
     "text": [
      "<class 'pandas.core.frame.DataFrame'>\n",
      "RangeIndex: 81396 entries, 0 to 81395\n",
      "Data columns (total 19 columns):\n",
      " #   Column                                 Non-Null Count  Dtype  \n",
      "---  ------                                 --------------  -----  \n",
      " 0   average_Fourier                        81396 non-null  float64\n",
      " 1   median_Fourier                         81396 non-null  float64\n",
      " 2   maximum_Fourier                        81396 non-null  float64\n",
      " 3   minimum_Fourier                        81396 non-null  float64\n",
      " 4   peak_Fourier                           81396 non-null  float64\n",
      " 5   none_levated_peak_Fourier              81396 non-null  float64\n",
      " 6   sample_standard_deviation_Fourier      81396 non-null  float64\n",
      " 7   population_standard_deviation_Fourier  81396 non-null  float64\n",
      " 8   percentile15_Fourier                   81396 non-null  float64\n",
      " 9   percentile25_Fourier                   81396 non-null  float64\n",
      " 10  percentile50_Fourier                   81396 non-null  float64\n",
      " 11  percentile75_Fourier                   81396 non-null  float64\n",
      " 12  amplitude_Fourier                      81396 non-null  float64\n",
      " 13  variance_Fourier                       81396 non-null  float64\n",
      " 14  interquartile_range_Fourier            81396 non-null  float64\n",
      " 15  semi_interquartile_range_Fourier       81396 non-null  float64\n",
      " 16  coefficient_of_variation_Fourier       81396 non-null  float64\n",
      " 17  skewness_Fourier                       81396 non-null  float64\n",
      " 18  kurtosis_Fourier                       81396 non-null  float64\n",
      "dtypes: float64(19)\n",
      "memory usage: 11.8 MB\n"
     ]
    }
   ],
   "source": [
    "df_add = pd.read_csv(open('class_0_feature_3.csv', 'rb'))\n",
    "df_add = df_add.drop(['nameseq', 'label'], axis = 1).add_suffix('_Fourier')\n",
    "df_add.info()"
   ]
  },
  {
   "cell_type": "code",
   "execution_count": 11,
   "metadata": {},
   "outputs": [
    {
     "name": "stdout",
     "output_type": "stream",
     "text": [
      "<class 'pandas.core.frame.DataFrame'>\n",
      "RangeIndex: 81396 entries, 0 to 81395\n",
      "Columns: 104 entries, seq_overlap to kurtosis_Fourier\n",
      "dtypes: float64(99), int64(3), object(2)\n",
      "memory usage: 64.6+ MB\n"
     ]
    }
   ],
   "source": [
    "df_0 = pd.concat([df_0, df_add], axis = 1)\n",
    "df_0.info()"
   ]
  },
  {
   "cell_type": "code",
   "execution_count": 12,
   "metadata": {},
   "outputs": [
    {
     "name": "stdout",
     "output_type": "stream",
     "text": [
      "<class 'pandas.core.frame.DataFrame'>\n",
      "RangeIndex: 81396 entries, 0 to 81395\n",
      "Data columns (total 10 columns):\n",
      " #   Column  Non-Null Count  Dtype  \n",
      "---  ------  --------------  -----  \n",
      " 0   k1      81396 non-null  float64\n",
      " 1   k2      81396 non-null  float64\n",
      " 2   k3      81396 non-null  float64\n",
      " 3   k4      81396 non-null  float64\n",
      " 4   k5      81396 non-null  float64\n",
      " 5   k6      81396 non-null  float64\n",
      " 6   k7      81396 non-null  float64\n",
      " 7   k8      81396 non-null  float64\n",
      " 8   k9      81396 non-null  float64\n",
      " 9   k10     81396 non-null  float64\n",
      "dtypes: float64(10)\n",
      "memory usage: 6.2 MB\n"
     ]
    }
   ],
   "source": [
    "df_add = pd.read_csv(open('class_0_feature_4.csv', 'rb'))\n",
    "df_add = df_add.drop(['nameseq', 'label'], axis = 1)\n",
    "df_add.info()"
   ]
  },
  {
   "cell_type": "code",
   "execution_count": 13,
   "metadata": {},
   "outputs": [
    {
     "name": "stdout",
     "output_type": "stream",
     "text": [
      "<class 'pandas.core.frame.DataFrame'>\n",
      "RangeIndex: 81396 entries, 0 to 81395\n",
      "Columns: 114 entries, seq_overlap to k10\n",
      "dtypes: float64(109), int64(3), object(2)\n",
      "memory usage: 70.8+ MB\n"
     ]
    }
   ],
   "source": [
    "df_0 = pd.concat([df_0, df_add], axis = 1)\n",
    "df_0.info()"
   ]
  },
  {
   "cell_type": "code",
   "execution_count": 14,
   "metadata": {},
   "outputs": [
    {
     "name": "stdout",
     "output_type": "stream",
     "text": [
      "<class 'pandas.core.frame.DataFrame'>\n",
      "RangeIndex: 81396 entries, 0 to 81395\n",
      "Data columns (total 19 columns):\n",
      " #   Column                                     Non-Null Count  Dtype  \n",
      "---  ------                                     --------------  -----  \n",
      " 0   average_Accumulated                        81396 non-null  float64\n",
      " 1   median_Accumulated                         81396 non-null  float64\n",
      " 2   maximum_Accumulated                        81396 non-null  float64\n",
      " 3   minimum_Accumulated                        81396 non-null  float64\n",
      " 4   peak_Accumulated                           81396 non-null  float64\n",
      " 5   none_levated_peak_Accumulated              81396 non-null  float64\n",
      " 6   sample_standard_deviation_Accumulated      81396 non-null  float64\n",
      " 7   population_standard_deviation_Accumulated  81396 non-null  float64\n",
      " 8   percentile15_Accumulated                   81396 non-null  float64\n",
      " 9   percentile25_Accumulated                   81396 non-null  float64\n",
      " 10  percentile50_Accumulated                   81396 non-null  float64\n",
      " 11  percentile75_Accumulated                   81396 non-null  float64\n",
      " 12  amplitude_Accumulated                      81396 non-null  float64\n",
      " 13  variance_Accumulated                       81396 non-null  float64\n",
      " 14  interquartile_range_Accumulated            81396 non-null  float64\n",
      " 15  semi_interquartile_range_Accumulated       81396 non-null  float64\n",
      " 16  coefficient_of_variation_Accumulated       81396 non-null  float64\n",
      " 17  skewness_Accumulated                       81396 non-null  float64\n",
      " 18  kurtosis_Accumulated                       81396 non-null  float64\n",
      "dtypes: float64(19)\n",
      "memory usage: 11.8 MB\n"
     ]
    }
   ],
   "source": [
    "df_add = pd.read_csv(open('class_0_feature_5.csv', 'rb'))\n",
    "df_add = df_add.drop(['nameseq', 'label'], axis = 1).add_suffix(\"_Accumulated\")\n",
    "df_add.info()"
   ]
  },
  {
   "cell_type": "code",
   "execution_count": 15,
   "metadata": {},
   "outputs": [
    {
     "name": "stdout",
     "output_type": "stream",
     "text": [
      "<class 'pandas.core.frame.DataFrame'>\n",
      "RangeIndex: 81396 entries, 0 to 81395\n",
      "Columns: 133 entries, seq_overlap to kurtosis_Accumulated\n",
      "dtypes: float64(128), int64(3), object(2)\n",
      "memory usage: 82.6+ MB\n"
     ]
    }
   ],
   "source": [
    "df_0 = pd.concat([df_0, df_add], axis = 1)\n",
    "df_0.info()"
   ]
  },
  {
   "cell_type": "code",
   "execution_count": 16,
   "metadata": {},
   "outputs": [
    {
     "name": "stdout",
     "output_type": "stream",
     "text": [
      "<class 'pandas.core.frame.DataFrame'>\n",
      "RangeIndex: 81396 entries, 0 to 81395\n",
      "Data columns (total 10 columns):\n",
      " #   Column                  Non-Null Count  Dtype  \n",
      "---  ------                  --------------  -----  \n",
      " 0   maximum_ORF_length      81396 non-null  int64  \n",
      " 1   minimum_ORF_length      81396 non-null  int64  \n",
      " 2   std_ORF_length          81396 non-null  float64\n",
      " 3   average_ORF_length      81396 non-null  float64\n",
      " 4   cv_ORF_length           81396 non-null  float64\n",
      " 5   maximum_GC_content_ORF  81396 non-null  float64\n",
      " 6   minimum_GC_content_ORF  81396 non-null  float64\n",
      " 7   std_GC_content_ORF      81396 non-null  float64\n",
      " 8   average_GC_content_ORF  81396 non-null  float64\n",
      " 9   cv_GC_content_ORF       81396 non-null  float64\n",
      "dtypes: float64(8), int64(2)\n",
      "memory usage: 6.2 MB\n"
     ]
    }
   ],
   "source": [
    "df_add = pd.read_csv(open('class_0_feature_6.csv', 'rb'))\n",
    "df_add = df_add.drop(['nameseq', 'label'], axis = 1)\n",
    "df_add.info()"
   ]
  },
  {
   "cell_type": "code",
   "execution_count": 17,
   "metadata": {},
   "outputs": [
    {
     "name": "stdout",
     "output_type": "stream",
     "text": [
      "<class 'pandas.core.frame.DataFrame'>\n",
      "RangeIndex: 81396 entries, 0 to 81395\n",
      "Columns: 143 entries, seq_overlap to cv_GC_content_ORF\n",
      "dtypes: float64(136), int64(5), object(2)\n",
      "memory usage: 88.8+ MB\n"
     ]
    }
   ],
   "source": [
    "df_0 = pd.concat([df_0, df_add], axis = 1)\n",
    "df_0.info()"
   ]
  },
  {
   "cell_type": "code",
   "execution_count": 18,
   "metadata": {},
   "outputs": [
    {
     "name": "stdout",
     "output_type": "stream",
     "text": [
      "<class 'pandas.core.frame.DataFrame'>\n",
      "RangeIndex: 81396 entries, 0 to 81395\n",
      "Data columns (total 2 columns):\n",
      " #   Column                       Non-Null Count  Dtype  \n",
      "---  ------                       --------------  -----  \n",
      " 0   fickett_score-ORF            81396 non-null  float64\n",
      " 1   fickett_score-full-sequence  81396 non-null  float64\n",
      "dtypes: float64(2)\n",
      "memory usage: 1.2 MB\n"
     ]
    }
   ],
   "source": [
    "df_add = pd.read_csv(open('class_0_feature_7.csv', 'rb'))\n",
    "df_add = df_add.drop(['nameseq', 'label'], axis = 1)\n",
    "df_add.info()"
   ]
  },
  {
   "cell_type": "code",
   "execution_count": 19,
   "metadata": {},
   "outputs": [
    {
     "name": "stdout",
     "output_type": "stream",
     "text": [
      "<class 'pandas.core.frame.DataFrame'>\n",
      "RangeIndex: 81396 entries, 0 to 81395\n",
      "Columns: 145 entries, seq_overlap to fickett_score-full-sequence\n",
      "dtypes: float64(138), int64(5), object(2)\n",
      "memory usage: 90.0+ MB\n"
     ]
    }
   ],
   "source": [
    "df_0 = pd.concat([df_0, df_add], axis = 1)\n",
    "df_0.info()"
   ]
  },
  {
   "cell_type": "code",
   "execution_count": 20,
   "metadata": {},
   "outputs": [],
   "source": [
    "df_0.to_csv(\"df_lable_0_merged.csv\", index = False)"
   ]
  },
  {
   "cell_type": "code",
   "execution_count": 21,
   "metadata": {},
   "outputs": [
    {
     "name": "stdout",
     "output_type": "stream",
     "text": [
      "<class 'pandas.core.frame.DataFrame'>\n",
      "RangeIndex: 95558 entries, 0 to 95557\n",
      "Columns: 145 entries, seq_overlap to fickett_score-full-sequence\n",
      "dtypes: float64(138), int64(5), object(2)\n",
      "memory usage: 105.7+ MB\n"
     ]
    }
   ],
   "source": [
    "df_1 = pd.read_csv(open('df_label_1.csv', 'rb'))\n",
    "\n",
    "df_add = pd.read_csv(open('class_1_feature_1.csv', 'rb'))\n",
    "df_add = df_add.drop(['nameseq', 'label'], axis = 1)\n",
    "df_1 = pd.concat([df_1, df_add], axis = 1)\n",
    "\n",
    "df_add = pd.read_csv(open('class_1_feature_2.csv', 'rb'))\n",
    "df_add = df_add.drop(['nameseq', 'label'], axis = 1)\n",
    "df_1 = pd.concat([df_1, df_add], axis = 1)\n",
    "\n",
    "df_add = pd.read_csv(open('class_1_feature_3.csv', 'rb'))\n",
    "df_add = df_add.drop(['nameseq', 'label'], axis = 1).add_suffix('_Fourier')\n",
    "df_1 = pd.concat([df_1, df_add], axis = 1)\n",
    "\n",
    "df_add = pd.read_csv(open('class_1_feature_4.csv', 'rb'))\n",
    "df_add = df_add.drop(['nameseq', 'label'], axis = 1)\n",
    "df_1 = pd.concat([df_1, df_add], axis = 1)\n",
    "\n",
    "df_add = pd.read_csv(open('class_1_feature_5.csv', 'rb'))\n",
    "df_add = df_add.drop(['nameseq', 'label'], axis = 1).add_suffix(\"_Accumulated\")\n",
    "df_1 = pd.concat([df_1, df_add], axis = 1)\n",
    "\n",
    "df_add = pd.read_csv(open('class_1_feature_6.csv', 'rb'))\n",
    "df_add = df_add.drop(['nameseq', 'label'], axis = 1)\n",
    "df_1 = pd.concat([df_1, df_add], axis = 1)\n",
    "\n",
    "df_add = pd.read_csv(open('class_1_feature_7.csv', 'rb'))\n",
    "df_add = df_add.drop(['nameseq', 'label'], axis = 1)\n",
    "df_1 = pd.concat([df_1, df_add], axis = 1)\n",
    "\n",
    "df_1.info()"
   ]
  },
  {
   "cell_type": "code",
   "execution_count": 22,
   "metadata": {},
   "outputs": [],
   "source": [
    "df_1.to_csv(\"df_lable_1_merged.csv\", index = False)"
   ]
  },
  {
   "cell_type": "code",
   "execution_count": 23,
   "metadata": {},
   "outputs": [
    {
     "name": "stdout",
     "output_type": "stream",
     "text": [
      "<class 'pandas.core.frame.DataFrame'>\n",
      "RangeIndex: 176954 entries, 0 to 176953\n",
      "Columns: 145 entries, seq_overlap to fickett_score-full-sequence\n",
      "dtypes: float64(138), int64(5), object(2)\n",
      "memory usage: 195.8+ MB\n"
     ]
    }
   ],
   "source": [
    "df_all = pd.concat([df_0, df_1], axis = 0).reset_index(drop = True)\n",
    "df_all.info()"
   ]
  },
  {
   "cell_type": "code",
   "execution_count": 24,
   "metadata": {},
   "outputs": [],
   "source": [
    "df_all.sample(frac = 1).to_csv(\"df_whole.csv\", index = False)"
   ]
  }
 ],
 "metadata": {
  "kernelspec": {
   "display_name": "PGAMenv",
   "language": "python",
   "name": "python3"
  },
  "language_info": {
   "codemirror_mode": {
    "name": "ipython",
    "version": 3
   },
   "file_extension": ".py",
   "mimetype": "text/x-python",
   "name": "python",
   "nbconvert_exporter": "python",
   "pygments_lexer": "ipython3",
   "version": "3.10.12"
  }
 },
 "nbformat": 4,
 "nbformat_minor": 2
}
