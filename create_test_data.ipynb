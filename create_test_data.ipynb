{
 "cells": [
  {
   "cell_type": "code",
   "execution_count": 1,
   "metadata": {
    "metadata": {}
   },
   "outputs": [],
   "source": [
    "import numpy as np\n",
    "import pandas as pd\n",
    "from Bio import SeqIO"
   ]
  },
  {
   "cell_type": "code",
   "execution_count": 2,
   "metadata": {
    "metadata": {}
   },
   "outputs": [],
   "source": [
    "def read_fasta_file(fasta_file):\n",
    "    sequence = \"\"\n",
    "\n",
    "    for record in SeqIO.parse(fasta_file, \"fasta\"):\n",
    "        sequence += str(record.seq)\n",
    "\n",
    "    return sequence\n",
    "\n",
    "def parse_gtf_file(gtf_file):\n",
    "    exons = {}\n",
    "\n",
    "    with open(gtf_file, 'r') as f:\n",
    "        for line in f:\n",
    "            if not line.startswith('#'):\n",
    "                cols = line.strip().split('\\t')\n",
    "                feature_type = cols[2]\n",
    "                if feature_type == 'exon':\n",
    "                    chromosome = cols[0]\n",
    "                    start = int(cols[3])\n",
    "                    end = int(cols[4])\n",
    "                    gene_id = cols[8].split(';')[0].split('\"')[1]\n",
    "                    if gene_id not in exons:\n",
    "                        exons[gene_id] = []\n",
    "                    exons[gene_id].append((start, end))\n",
    "\n",
    "    return exons"
   ]
  },
  {
   "cell_type": "code",
   "execution_count": 3,
   "metadata": {
    "metadata": {}
   },
   "outputs": [],
   "source": [
    "fasta_0_Coli = './data/samples/sample_0/reference_genome_545778205.fasta'\n",
    "fasta_0_Coli = read_fasta_file(fasta_0_Coli)\n",
    "\n",
    "gtf_0_Coli = './data/samples/sample_0/545778205_gtf_merged.gtf'\n",
    "gtf_0_Coli = parse_gtf_file(gtf_0_Coli)"
   ]
  },
  {
   "cell_type": "code",
   "execution_count": 4,
   "metadata": {
    "metadata": {}
   },
   "outputs": [],
   "source": [
    "n_pad = 300\n",
    "n_annotate = 300\n",
    "n_window = 900\n",
    "\n",
    "dict_ = []\n",
    "\n",
    "for sequence, exon in zip([fasta_0_Coli],\n",
    "                           [gtf_0_Coli]):\n",
    "    for j in range(0, len(sequence), 100):\n",
    "        befor_start = j - n_pad\n",
    "        annotate_start = j\n",
    "        after_start = j + n_annotate + n_pad\n",
    "\n",
    "        befor_end = j\n",
    "        annotate_end = min(j + n_annotate, len(sequence))\n",
    "        after_end = j + n_window\n",
    "\n",
    "        window = []\n",
    "\n",
    "        if befor_start < 0:\n",
    "            window += ['N'] * abs(befor_start)\n",
    "            window += sequence[0 : befor_end]\n",
    "        else:\n",
    "            window += sequence[befor_start : befor_end]\n",
    "\n",
    "        window += sequence[annotate_start : annotate_end]\n",
    "\n",
    "        if after_end > len(sequence):\n",
    "            window += sequence[after_start : len(sequence)]\n",
    "            window += ['N'] * abs(n_window - len(window))\n",
    "        else:\n",
    "            window += sequence[after_start : after_end]\n",
    "\n",
    "        it = 0\n",
    "        n_start = 0\n",
    "        p_start = True\n",
    "        n_end = 0\n",
    "        p_end = True\n",
    "\n",
    "        for k in range(annotate_start, annotate_end):\n",
    "            exon_transcript = 1 if any(start - 1 <= k < end - 1 for transcript_exons in exon.values() for start, end in transcript_exons) else 0\n",
    "\n",
    "            it += exon_transcript \n",
    "            if it > 0 and p_start:\n",
    "                n_start = k - annotate_start\n",
    "                p_start = False\n",
    "\n",
    "            if exon_transcript and p_end:\n",
    "                n_end = k - annotate_start\n",
    "\n",
    "            if n_start and p_end and not exon_transcript:\n",
    "                p_end = False\n",
    "\n",
    "        label = 1 if it / n_annotate > 0.66 else 0\n",
    "        n_start, n_end = (0, 0) if not label else (n_start, n_end)\n",
    "\n",
    "        iteration_dict = {\n",
    "            'seq_overlap': ''.join(window),\n",
    "            'seq_med': sequence[annotate_start : annotate_end],\n",
    "            'label': label,\n",
    "            'n_start' : n_start,\n",
    "            'n_end' : n_end,\n",
    "            'bais' : annotate_start\n",
    "        }\n",
    "\n",
    "        dict_.append(iteration_dict)\n",
    "\n"
   ]
  },
  {
   "cell_type": "code",
   "execution_count": 5,
   "metadata": {
    "metadata": {}
   },
   "outputs": [
    {
     "data": {
      "text/plain": [
       "label\n",
       "0    24496\n",
       "1    21921\n",
       "Name: count, dtype: int64"
      ]
     },
     "execution_count": 5,
     "metadata": {},
     "output_type": "execute_result"
    }
   ],
   "source": [
    "df = pd.DataFrame(dict_)\n",
    "df['label'].value_counts()"
   ]
  },
  {
   "cell_type": "code",
   "execution_count": 6,
   "metadata": {
    "metadata": {}
   },
   "outputs": [],
   "source": [
    "def fix_window(row):\n",
    "    overlap_len = len(row['seq_overlap'])\n",
    "    med_len = len(row['seq_med'])\n",
    "\n",
    "    if overlap_len < 900:\n",
    "        row['seq_overlap'] += 'N' * (900 - overlap_len)\n",
    "\n",
    "    if med_len < 300:\n",
    "        row['seq_med'] += 'N' * (300 - med_len)\n",
    "\n",
    "    return row\n",
    "\n",
    "df = df.apply(fix_window, axis = 1)"
   ]
  },
  {
   "cell_type": "code",
   "execution_count": 7,
   "metadata": {
    "metadata": {}
   },
   "outputs": [
    {
     "data": {
      "text/plain": [
       "label\n",
       "0    24494\n",
       "1    21911\n",
       "Name: count, dtype: int64"
      ]
     },
     "execution_count": 7,
     "metadata": {},
     "output_type": "execute_result"
    }
   ],
   "source": [
    "def dismiss_N(row):\n",
    "    if 'N' in row['seq_overlap'] or 'N' in row['seq_med']:\n",
    "        return False\n",
    "    else:\n",
    "        return True\n",
    "    \n",
    "\n",
    "df = df[df.apply(dismiss_N, axis=1)]\n",
    "df['label'].value_counts()"
   ]
  },
  {
   "cell_type": "code",
   "execution_count": 8,
   "metadata": {
    "metadata": {}
   },
   "outputs": [],
   "source": [
    "df.to_csv('test_df_label_0.csv', index = False)"
   ]
  },
  {
   "cell_type": "code",
   "execution_count": null,
   "metadata": {
    "metadata": {}
   },
   "outputs": [],
   "source": [
    "def write_fasta(df):\n",
    "    with open(f'test.fasta', 'w') as f:\n",
    "        for idx, row in df.iterrows():\n",
    "            sequence = row['seq_med']\n",
    "            f.write(f'>BA000007.3_{idx}\\n')\n",
    "            f.write(f'{sequence}\\n')\n",
    "\n",
    "\n",
    "write_fasta(df)"
   ]
  },
  {
   "cell_type": "code",
   "execution_count": null,
   "metadata": {
    "metadata": {}
   },
   "outputs": [],
   "source": [
    "!python3 ../../Soft/MathFeature/preprocessing/preprocessing.py -i test.fasta -o test_preproces.fasta\n",
    "!python3 ../../Soft/MathFeature/methods/ExtractionTechniques.py -i test_preproces.fasta -o test_feature_1.csv -l DNA -t DNC -seq 1\n",
    "!python3 ../../Soft/MathFeature/methods/ExtractionTechniques.py -i test_preproces.fasta -o test_feature_2.csv -l DNA -t TNC -seq 1\n",
    "!python3 ../../Soft/MathFeature/methods/FourierClass.py -i test_preproces.fasta -o test_feature_3.csv -l mRNA -r 3\n",
    "!python3 ../../Soft/MathFeature/methods/EntropyClass.py -i test_preproces.fasta -o test_feature_4.csv -l mRNA -k 10 -e Shannon\n",
    "\n",
    "!python3 ../../Soft/MathFeature/methods/CodingClass.py -i test_preproces.fasta -o test_feature_6.csv -l lncRNA\n",
    "!python3 ../../Soft/MathFeature/methods/FickettScore.py -i test_preproces.fasta -o test_feature_7.csv -l lncRNA -seq 1"
   ]
  },
  {
   "cell_type": "code",
   "execution_count": null,
   "metadata": {},
   "outputs": [],
   "source": [
    "!python3 ../../Soft/MathFeature/methods/AccumulatedNucleotideFrequency.py -n 1 -o test_feature_5.csv -r 2"
   ]
  },
  {
   "cell_type": "code",
   "execution_count": 4,
   "metadata": {},
   "outputs": [
    {
     "name": "stdout",
     "output_type": "stream",
     "text": [
      "<class 'pandas.core.frame.DataFrame'>\n",
      "RangeIndex: 46405 entries, 0 to 46404\n",
      "Columns: 146 entries, seq_overlap to fickett_score-full-sequence\n",
      "dtypes: float64(138), int64(6), object(2)\n",
      "memory usage: 51.7+ MB\n"
     ]
    }
   ],
   "source": [
    "df = pd.read_csv(open('test_df_label_0.csv', 'rb'))\n",
    "\n",
    "df_add = pd.read_csv(open('test_feature_1.csv', 'rb'))\n",
    "df_add = df_add.drop(['nameseq', 'label'], axis = 1)\n",
    "df = pd.concat([df, df_add], axis = 1)\n",
    "\n",
    "df_add = pd.read_csv(open('test_feature_2.csv', 'rb'))\n",
    "df_add = df_add.drop(['nameseq', 'label'], axis = 1)\n",
    "df = pd.concat([df, df_add], axis = 1)\n",
    "\n",
    "df_add = pd.read_csv(open('test_feature_3.csv', 'rb'))\n",
    "df_add = df_add.drop(['nameseq', 'label'], axis = 1).add_suffix('_Fourier')\n",
    "df = pd.concat([df, df_add], axis = 1)\n",
    "\n",
    "df_add = pd.read_csv(open('test_feature_4.csv', 'rb'))\n",
    "df_add = df_add.drop(['nameseq', 'label'], axis = 1)\n",
    "df = pd.concat([df, df_add], axis = 1)\n",
    "\n",
    "df_add = pd.read_csv(open('test_feature_5.csv', 'rb'))\n",
    "df_add = df_add.drop(['nameseq', 'label'], axis = 1).add_suffix(\"_Accumulated\")\n",
    "df = pd.concat([df, df_add], axis = 1)\n",
    "\n",
    "df_add = pd.read_csv(open('test_feature_6.csv', 'rb'))\n",
    "df_add = df_add.drop(['nameseq', 'label'], axis = 1)\n",
    "df = pd.concat([df, df_add], axis = 1)\n",
    "\n",
    "df_add = pd.read_csv(open('test_feature_7.csv', 'rb'))\n",
    "df_add = df_add.drop(['nameseq', 'label'], axis = 1)\n",
    "df = pd.concat([df, df_add], axis = 1)\n",
    "\n",
    "df.info()"
   ]
  },
  {
   "cell_type": "code",
   "execution_count": 6,
   "metadata": {},
   "outputs": [],
   "source": [
    "df.to_csv(\"df_test.csv\")"
   ]
  }
 ],
 "metadata": {
  "kernelspec": {
   "display_name": "Python 3",
   "language": "python",
   "name": "python3"
  },
  "language_info": {
   "codemirror_mode": {
    "name": "ipython",
    "version": 3
   },
   "file_extension": ".py",
   "mimetype": "text/x-python",
   "name": "python",
   "nbconvert_exporter": "python",
   "pygments_lexer": "ipython3",
   "version": "3.10.12"
  }
 },
 "nbformat": 4,
 "nbformat_minor": 2
}
